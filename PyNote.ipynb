{
 "cells": [
  {
   "cell_type": "markdown",
   "metadata": {},
   "source": [
    "This is the Pseudocode of PyCode.py\n",
    "Here's the snippets of the codes:"
   ]
  },
  {
   "cell_type": "code",
   "execution_count": null,
   "metadata": {},
   "outputs": [],
   "source": [
    "# Importing Packages\n",
    "import copy\n",
    "from sympy import *\n",
    "\n",
    "# Creating Methods\n",
    "x = symbols('x')\n",
    "\n",
    "# Evaluate X-Input\n",
    "def evToX(f, val):\n",
    "    return N(f.subs(x, val))\n",
    "\n",
    "# Array Printer\n",
    "def printArray(arr, roundV, postfix=\"\"):\n",
    "    print(\"[\", end=\"\")\n",
    "    for i in range(len(arr)):\n",
    "        if (i != 0):\n",
    "            print(\", \", end=\"\")\n",
    "        print(str(round(arr[i], roundV))+postfix, end=\"\")\n",
    "    print(\"]\", end=\"\")"
   ]
  },
  {
   "cell_type": "markdown",
   "metadata": {},
   "source": [
    "Those are the intializing packages with. For the pseudocode, here's the simple explanation:"
   ]
  },
  {
   "cell_type": "markdown",
   "metadata": {},
   "source": [
    "function evToX receive [function, input_value]\n",
    "  return function(input_value)\n",
    "\n",
    "function printArray receive [array, rounding, postFix -> default: empty]\n",
    "  loop from 0 until length of array as IDX\n",
    "    let A_Val = array index of IDX\n",
    "    round A_Val as to rounding\n",
    "    A_Val concatenate with postFix\n",
    "    print A_Val"
   ]
  },
  {
   "cell_type": "markdown",
   "metadata": {},
   "source": [
    "After that, we have some functions to operate the Numerical Methods. Here's the functions for Newton Raphson:"
   ]
  },
  {
   "cell_type": "code",
   "execution_count": null,
   "metadata": {},
   "outputs": [],
   "source": [
    "# NewtonRaphson\n",
    "def NewtonRaphson(f, f_dif, val, roundV, errRound, tolerance=0.00001, limit=1000, it=0, errPrev=0):\n",
    "    # Intializing Process\n",
    "    if (it == 0):\n",
    "        print(\"Start to evaluate Newton Raphson\")\n",
    "\n",
    "    # Simulation Terminator: Limit of Loop\n",
    "    if (it == limit):\n",
    "        print(\"Iteration Limit! The function is either divergent or requires more iteration!\")\n",
    "        return [val, it]\n",
    "\n",
    "    # Newton Raphson Formula + Error Evaluation\n",
    "    value = val - evToX(f, val) / evToX(f_dif, val)\n",
    "    error = (value - val)/value\n",
    "\n",
    "    print(\"Iterate: \", it+1, \"\\tPrevious: \", val,\n",
    "          \"\\tCurrent: \", value, \"\\tError: \", round(error*100, errRound), \"%\")\n",
    "\n",
    "    # Updating Process\n",
    "    iter = it + 1\n",
    "    terminate = false\n",
    "\n",
    "    # Simulation Terminator: Found --- 0 Error a.k.a value is found\n",
    "    if (error == 0):\n",
    "        print(\"Stopped by the exact value found\")\n",
    "        terminate = true\n",
    "\n",
    "    # Simulation Terminator: Error Tolerance --- Error difference is too small to continue\n",
    "    elif (it != 0 and abs(error - errPrev) < tolerance):\n",
    "        print(\"Stoped by the error tolerance limit\")\n",
    "        terminate = true\n",
    "\n",
    "    # Simulation Terminator: Almost exact --- Change of value is too small to continue\n",
    "    elif (round(val, roundV) == round(value, roundV)):\n",
    "        print(\"Stopped by the tolerated round value\")\n",
    "        terminate = true\n",
    "\n",
    "    # Terminator\n",
    "    if terminate:\n",
    "        print(\"Newton Raphson Stopped! Last Value:\", value)\n",
    "        return [val, it]\n",
    "\n",
    "    return NewtonRaphson(f, f_dif, value, roundV, errRound,\n",
    "                  tolerance, limit, iter, error)"
   ]
  },
  {
   "cell_type": "markdown",
   "metadata": {},
   "source": [
    "Here's the pseudocode for the Newton Raphson method:"
   ]
  },
  {
   "cell_type": "markdown",
   "metadata": {},
   "source": [
    "function NewtonRaphson receive [function, diferentiated_function, value, rounding, error_rounding, tolerance -> default: 0.00001, limit -> default: 1000, iterator -> default: 0, error_previous -> default: 0]\n",
    "  if iterator is limit\n",
    "    terminate process, return value\n",
    "\n",
    "  \n",
    "\n",
    "    # Newton Raphson Formula + Error Evaluation\n",
    "    value = val - evToX(f, val) / evToX(f_dif, val)\n",
    "    error = (value - val)/value\n",
    "\n",
    "    print(\"Iterate: \", it+1, \"\\tPrevious: \", val,\n",
    "          \"\\tCurrent: \", value, \"\\tError: \", round(error*100, errRound), \"%\")\n",
    "\n",
    "    # Updating Process\n",
    "    iter = it + 1\n",
    "    terminate = false\n",
    "\n",
    "    # Simulation Terminator: Found --- 0 Error a.k.a value is found\n",
    "    if (error == 0):\n",
    "        print(\"Stopped by the exact value found\")\n",
    "        terminate = true\n",
    "\n",
    "    # Simulation Terminator: Error Tolerance --- Error difference is too small to continue\n",
    "    elif (it != 0 and abs(error - errPrev) < tolerance):\n",
    "        print(\"Stoped by the error tolerance limit\")\n",
    "        terminate = true\n",
    "\n",
    "    # Simulation Terminator: Almost exact --- Change of value is too small to continue\n",
    "    elif (round(val, roundV) == round(value, roundV)):\n",
    "        print(\"Stopped by the tolerated round value\")\n",
    "        terminate = true\n",
    "\n",
    "    # Terminator\n",
    "    if terminate:\n",
    "        print(\"Newton Raphson Stopped! Last Value:\", value)\n",
    "        return [val, it]\n",
    "\n",
    "    return NewtonRaphson(f, f_dif, value, roundV, errRound,\n",
    "                  tolerance, limit, iter, error)"
   ]
  }
 ],
 "metadata": {
  "kernelspec": {
   "display_name": "Python 3.11.0 64-bit",
   "language": "python",
   "name": "python3"
  },
  "language_info": {
   "name": "python",
   "version": "3.11.0"
  },
  "orig_nbformat": 4,
  "vscode": {
   "interpreter": {
    "hash": "c261aea317cc0286b3b3261fbba9abdec21eaa57589985bb7a274bf54d6cc0a7"
   }
  }
 },
 "nbformat": 4,
 "nbformat_minor": 2
}
