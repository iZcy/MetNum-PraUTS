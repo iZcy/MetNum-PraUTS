{
 "cells": [
  {
   "cell_type": "markdown",
   "metadata": {},
   "source": [
    "This is the Pseudocode of PyCode.py\n",
    "Here's the snippets of the codes:"
   ]
  },
  {
   "cell_type": "code",
   "execution_count": null,
   "metadata": {},
   "outputs": [],
   "source": [
    "# Importing Packages\n",
    "import copy\n",
    "from sympy import *\n",
    "\n",
    "# Creating Methods\n",
    "x = symbols('x')\n",
    "\n",
    "# Evaluate X-Input\n",
    "def evToX(f, val):\n",
    "    return N(f.subs(x, val))\n",
    "\n",
    "# Array Printer\n",
    "def printArray(arr, roundV, postfix=\"\"):\n",
    "    print(\"[\", end=\"\")\n",
    "    for i in range(len(arr)):\n",
    "        if (i != 0):\n",
    "            print(\", \", end=\"\")\n",
    "        print(str(round(arr[i], roundV))+postfix, end=\"\")\n",
    "    print(\"]\", end=\"\")"
   ]
  },
  {
   "cell_type": "markdown",
   "metadata": {},
   "source": [
    "Those are the intializing packages with. For the pseudocode, here's the simple explanation:"
   ]
  },
  {
   "cell_type": "markdown",
   "metadata": {},
   "source": [
    "function evToX receive [function, input_value]\n",
    "  return function(input_value)\n",
    "\n",
    "function printArray receive [array, rounding, postFix -> default: empty]\n",
    "  loop from 0 until length of array as IDX\n",
    "    let a = array index of IDX\n",
    "    round a as to rounding\n",
    "    \n",
    "    print array index of IDX"
   ]
  }
 ],
 "metadata": {
  "kernelspec": {
   "display_name": "Python 3.11.0 64-bit",
   "language": "python",
   "name": "python3"
  },
  "language_info": {
   "name": "python",
   "version": "3.11.0"
  },
  "orig_nbformat": 4,
  "vscode": {
   "interpreter": {
    "hash": "c261aea317cc0286b3b3261fbba9abdec21eaa57589985bb7a274bf54d6cc0a7"
   }
  }
 },
 "nbformat": 4,
 "nbformat_minor": 2
}
