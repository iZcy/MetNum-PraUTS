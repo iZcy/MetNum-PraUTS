{
 "cells": [
  {
   "cell_type": "markdown",
   "metadata": {},
   "source": [
    "About Dataset\n",
    "titlepage header\n",
    "\n",
    "UPDATE 26.04.2021\n",
    "All data is deanonymized now. Moreover, 17 additional measurement profiles were added, expanding the dataset from 138 hours to 185 hours of records.\n",
    "\n",
    "Context\n",
    "The data set comprises several sensor data collected from a permanent magnet synchronous motor (PMSM) deployed on a test bench. The PMSM represents a german OEM's prototype model. Test bench measurements were collected by the LEA department at Paderborn University.\n",
    "\n",
    "Content\n",
    "All recordings are sampled at 2 Hz. The data set consists of multiple measurement sessions, which can be distinguished from each other by column \"profile_id\". A measurement session can be between one and six hours long.\n",
    "\n",
    "The motor is excited by hand-designed driving cycles denoting a reference motor speed and a reference torque.\n",
    "Currents in d/q-coordinates (columns \"i_d\" and i_q\") and voltages in d/q-coordinates (columns \"u_d\" and \"u_q\") are a result of a standard control strategy trying to follow the reference speed and torque.\n",
    "Columns \"motor_speed\" and \"torque\" are the resulting quantities achieved by that strategy, derived from set currents and voltages.\n",
    "\n",
    "Most driving cycles denote random walks in the speed-torque-plane in order to imitate real world driving cycles to a more accurate degree than constant excitations and ramp-ups and -downs would.\n",
    "\n",
    "Acknowledgements\n",
    "Several publications leveraged the setup of the PMSM in the Paderborn University Lab:\n",
    "\n",
    "Temperature Estimation on the same motor but different data\n",
    "Determination of rotor temperature for an interior permanent magnet synchronous machine using a precise flux observer\n",
    "Investigation of Long Short-Term Memory Networks to Temperature Prediction for Permanent Magnet Synchronous Motors\n",
    "Real-Time Capable Methods to Determine the Magnet Temperature of Permanent Magnet Synchronous Motors — A Review\n",
    "Improved Fusion of Permanent Magnet Temperature Estimation Techniques for Synchronous Motors Using a Kalman Filter\n",
    "Fusion of a lumped-parameter thermal network and speed-dependent flux observer for PM temperature estimation in synchronous machines\n",
    "Fusion of direct and indirect temperature estimation techniques for permanent magnet synchronous motors\n",
    "Sensitivity analysis of a permanent magnet temperature observer for PM synchronous machines using the Monte Carlo method\n",
    "Observing the Permanent-Magnet Temperature of Synchronous Motors Based on Electrical Fundamental Wave Model Quantities\n",
    "Global Identification of a Low-Order Lumped-Parameter Thermal Network for Permanent Magnet Synchronous Motors\n",
    "Glocal identification methods for low-order lumped parameter thermal networks used in permanent magnet synchronous motors\n",
    "Temperature Estimation based on this dataset\n",
    "Please cite the following publication if you intend to use this dataset for your own publications:\n",
    "\n",
    "Estimating Electric Motor Temperatures with Deep Residual Machine Learning.\n",
    "Code available on GitHub upb-lea/deep-pmsm\n",
    "Inspiration\n",
    "The most interesting target features are rotor temperature (\"pm\"), stator temperatures (\"stator_*\") and torque.\n",
    "Especially rotor temperature and torque are not reliably and economically measurable in a commercial vehicle.\n",
    "\n",
    "Being able to have strong estimators for the rotor temperature helps the automotive industry to manufacture motors with less material and enables control strategies to utilize the motor to its maximum capability.\n",
    "A precise torque estimate leads to more accurate and adequate control of the motor, reducing power losses and eventually heat build-up."
   ]
  }
 ],
 "metadata": {
  "kernelspec": {
   "display_name": "Python 3.11.0 64-bit",
   "language": "python",
   "name": "python3"
  },
  "language_info": {
   "name": "python",
   "version": "3.11.0"
  },
  "orig_nbformat": 4,
  "vscode": {
   "interpreter": {
    "hash": "c261aea317cc0286b3b3261fbba9abdec21eaa57589985bb7a274bf54d6cc0a7"
   }
  }
 },
 "nbformat": 4,
 "nbformat_minor": 2
}
